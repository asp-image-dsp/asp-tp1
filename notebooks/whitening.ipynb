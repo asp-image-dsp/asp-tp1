{
 "cells": [
  {
   "cell_type": "code",
   "execution_count": 4,
   "metadata": {},
   "outputs": [],
   "source": [
    "import numpy as np"
   ]
  },
  {
   "cell_type": "code",
   "execution_count": 5,
   "metadata": {},
   "outputs": [],
   "source": [
    "def whitening(signal_strain, Rxx_hat, sample_spacing):\n",
    "    N = len(signal_strain)\n",
    "    hf = np.fft.rfft(signal_strain)\n",
    "    bins = np.fft.rfftfreq(N, sample_spacing)\n",
    "    white_hf = hf / (np.sqrt(Rxx_hat))\n",
    "    white_ht = np.fft.irfft(white_hf, n=N)\n",
    "    return white_ht"
   ]
  }
 ],
 "metadata": {
  "kernelspec": {
   "display_name": "Python 3",
   "language": "python",
   "name": "python3"
  },
  "language_info": {
   "codemirror_mode": {
    "name": "ipython",
    "version": 3
   },
   "file_extension": ".py",
   "mimetype": "text/x-python",
   "name": "python",
   "nbconvert_exporter": "python",
   "pygments_lexer": "ipython3",
   "version": "3.8.5"
  }
 },
 "nbformat": 4,
 "nbformat_minor": 4
}
